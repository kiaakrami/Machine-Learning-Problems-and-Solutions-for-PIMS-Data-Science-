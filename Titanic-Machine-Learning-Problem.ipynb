{
 "cells": [
  {
   "cell_type": "markdown",
   "metadata": {},
   "source": [
    "# Titanic Machine Learning Problem\n",
    "\n",
    "Using the Titanic dataset from kaggle (https://www.kaggle.com/c/titanic) to solve the problem\n",
    "\n",
    "## Problem set-up:\n",
    "\n",
    "\n",
    "The sinking of the RMS Titanic is one of the most infamous shipwrecks in history.  On April 15, 1912, during her maiden voyage, the Titanic sank after colliding with an iceberg, killing 1502 out of 2224 passengers and crew. This sensational tragedy shocked the international community and led to better safety regulations for ships.\n",
    "\n",
    "One of the reasons that the shipwreck led to such loss of life was that there were not enough lifeboats for the passengers and crew. Although there was some element of luck involved in surviving the sinking, some groups of people were more likely to survive than others, such as women, children, and the upper-class.\n",
    "\n",
    "For this problem, we want to complete the analysis of what sorts of people were likely to survive. In particular, we apply the tools of machine learning to predict which passengers survived the tragedy. (https://www.kaggle.com/c/titanic)"
   ]
  },
  {
   "cell_type": "code",
   "execution_count": 29,
   "metadata": {
    "collapsed": true
   },
   "outputs": [],
   "source": [
    "import numpy as np\n",
    "import matplotlib.pyplot as plt\n",
    "import pandas as pd\n",
    "import re\n",
    "import pydotplus \n",
    "from sklearn import tree\n",
    "from sklearn.tree import export_graphviz\n",
    "from sklearn.tree import DecisionTreeClassifier\n",
    "from sklearn.ensemble import RandomForestClassifier \n",
    "from sklearn.neighbors import KNeighborsClassifier\n",
    "from sklearn.linear_model import LogisticRegression\n",
    "from sklearn.preprocessing import OneHotEncoder"
   ]
  },
  {
   "cell_type": "code",
   "execution_count": 30,
   "metadata": {
    "collapsed": false
   },
   "outputs": [
    {
     "name": "stdout",
     "output_type": "stream",
     "text": [
      "    PassengerId  Survived  Pclass  \\\n",
      "1             2         1       1   \n",
      "3             4         1       1   \n",
      "6             7         0       1   \n",
      "10           11         1       3   \n",
      "11           12         1       1   \n",
      "\n",
      "                                                 Name     Sex   Age  SibSp  \\\n",
      "1   Cumings, Mrs. John Bradley (Florence Briggs Th...  female  38.0      1   \n",
      "3        Futrelle, Mrs. Jacques Heath (Lily May Peel)  female  35.0      1   \n",
      "6                             McCarthy, Mr. Timothy J    male  54.0      0   \n",
      "10                    Sandstrom, Miss. Marguerite Rut  female   4.0      1   \n",
      "11                           Bonnell, Miss. Elizabeth  female  58.0      0   \n",
      "\n",
      "    Parch    Ticket     Fare Cabin Embarked  \n",
      "1       0  PC 17599  71.2833   C85        C  \n",
      "3       0    113803  53.1000  C123        S  \n",
      "6       0     17463  51.8625   E46        S  \n",
      "10      1   PP 9549  16.7000    G6        S  \n",
      "11      0    113783  26.5500  C103        S  \n"
     ]
    }
   ],
   "source": [
    "train = pd.read_csv('train.csv')\n",
    "train = train.dropna()\n",
    "print(train.head())"
   ]
  },
  {
   "cell_type": "markdown",
   "metadata": {},
   "source": [
    "### Some feature engineering\n",
    "\n",
    "Let's exclude the text features for the moment, because we will learn how to handle text features later. Text features here are Name and Ticket.\n",
    "\n",
    "Features Sex, Embarked, and Cabin need to translated to numbers and maybe become categorical features. "
   ]
  },
  {
   "cell_type": "code",
   "execution_count": 31,
   "metadata": {
    "collapsed": true
   },
   "outputs": [],
   "source": [
    "def word2letter(X_word):\n",
    "    X_letter = []\n",
    "\n",
    "    for x in X_word:\n",
    "        X_letter.append(x[0])\n",
    "    return X_letter\n",
    "    \n",
    "train['Cabin_letter'] = word2letter(train['Cabin'])"
   ]
  },
  {
   "cell_type": "code",
   "execution_count": 32,
   "metadata": {
    "collapsed": false
   },
   "outputs": [
    {
     "name": "stdout",
     "output_type": "stream",
     "text": [
      "    PassengerId  Survived  Pclass  \\\n",
      "1             2         1       1   \n",
      "3             4         1       1   \n",
      "6             7         0       1   \n",
      "10           11         1       3   \n",
      "11           12         1       1   \n",
      "\n",
      "                                                 Name     Sex   Age  SibSp  \\\n",
      "1   Cumings, Mrs. John Bradley (Florence Briggs Th...  female  38.0      1   \n",
      "3        Futrelle, Mrs. Jacques Heath (Lily May Peel)  female  35.0      1   \n",
      "6                             McCarthy, Mr. Timothy J    male  54.0      0   \n",
      "10                    Sandstrom, Miss. Marguerite Rut  female   4.0      1   \n",
      "11                           Bonnell, Miss. Elizabeth  female  58.0      0   \n",
      "\n",
      "    Parch    Ticket     Fare Cabin Embarked Cabin_letter Embarked_number  \\\n",
      "1       0  PC 17599  71.2833   C85        C            C               1   \n",
      "3       0    113803  53.1000  C123        S            C               2   \n",
      "6       0     17463  51.8625   E46        S            E               2   \n",
      "10      1   PP 9549  16.7000    G6        S            G               2   \n",
      "11      0    113783  26.5500  C103        S            C               2   \n",
      "\n",
      "   Sex_number Cabin_number  \n",
      "1           1            1  \n",
      "3           1            1  \n",
      "6           0            3  \n",
      "10          1            5  \n",
      "11          1            1  \n"
     ]
    }
   ],
   "source": [
    "def text2number(X_word, words):\n",
    "    numbers = range(len(words))\n",
    "    \n",
    "    X_number = X_word.copy()\n",
    "    for n, w in zip(numbers, words):\n",
    "        X_number[X_word == w] = n\n",
    "    return X_number\n",
    "\n",
    "embarked_words = list(set(train['Embarked']))\n",
    "train['Embarked_number'] = text2number(train['Embarked'], embarked_words)\n",
    "\n",
    "sex_words = list(set(train['Sex']))\n",
    "train['Sex_number'] = text2number(train['Sex'], sex_words)\n",
    "\n",
    "cabin_words = list(set(train['Cabin_letter']))\n",
    "train['Cabin_number'] = text2number(train['Cabin_letter'], cabin_words)\n",
    "\n",
    "print(train.head())"
   ]
  },
  {
   "cell_type": "markdown",
   "metadata": {},
   "source": [
    "### Plot the features"
   ]
  },
  {
   "cell_type": "code",
   "execution_count": 33,
   "metadata": {
    "collapsed": false
   },
   "outputs": [
    {
     "data": {
      "image/png": "[encoded data removed]",
      "text/plain": [
       "<matplotlib.figure.Figure at 0x7ff4a6247090>"
      ]
     },
     "metadata": {},
     "output_type": "display_data"
    }
   ],
   "source": [
    "fig = plt.figure(figsize=(15, 10))\n",
    "\n",
    "for idx, f in enumerate(['Pclass', 'SibSp','Embarked_number','Sex_number', 'Parch','Age','Fare','Cabin_number']):\n",
    "    ax = fig.add_subplot(3,3,idx+1)\n",
    "    ax.hist(train[f], 15)\n",
    "    ax.set_xlabel(f)\n",
    "    ax.set_ylabel('Nr of people')\n",
    "    \n",
    "plt.show()"
   ]
  },
  {
   "cell_type": "markdown",
   "metadata": {},
   "source": [
    "Features are problematic, whose entries are numbers, but the value of the number has no meaning. These features pretend to have an order, where there is no. Features like this, we rebuild to categorical features. For each unique possible value, we build a new column which has entries 0 and 1."
   ]
  },
  {
   "cell_type": "code",
   "execution_count": 34,
   "metadata": {
    "collapsed": false
   },
   "outputs": [
    {
     "data": {
      "text/html": [
       "<div>\n",
       "<style>\n",
       "    .dataframe thead tr:only-child th {\n",
       "        text-align: right;\n",
       "    }\n",
       "\n",
       "    .dataframe thead th {\n",
       "        text-align: left;\n",
       "    }\n",
       "\n",
       "    .dataframe tbody tr th {\n",
       "        vertical-align: top;\n",
       "    }\n",
       "</style>\n",
       "<table border=\"1\" class=\"dataframe\">\n",
       "  <thead>\n",
       "    <tr style=\"text-align: right;\">\n",
       "      <th></th>\n",
       "      <th>PassengerId</th>\n",
       "      <th>Survived</th>\n",
       "      <th>Pclass</th>\n",
       "      <th>Name</th>\n",
       "      <th>Sex</th>\n",
       "      <th>Age</th>\n",
       "      <th>SibSp</th>\n",
       "      <th>Parch</th>\n",
       "      <th>Ticket</th>\n",
       "      <th>Fare</th>\n",
       "      <th>...</th>\n",
       "      <th>Embarked_1</th>\n",
       "      <th>Embarked_2</th>\n",
       "      <th>Cabin_0</th>\n",
       "      <th>Cabin_1</th>\n",
       "      <th>Cabin_2</th>\n",
       "      <th>Cabin_3</th>\n",
       "      <th>Cabin_4</th>\n",
       "      <th>Cabin_5</th>\n",
       "      <th>Cabin_6</th>\n",
       "      <th>Cabin_7</th>\n",
       "    </tr>\n",
       "  </thead>\n",
       "  <tbody>\n",
       "    <tr>\n",
       "      <th>1</th>\n",
       "      <td>2</td>\n",
       "      <td>1</td>\n",
       "      <td>1</td>\n",
       "      <td>Cumings, Mrs. John Bradley (Florence Briggs Th...</td>\n",
       "      <td>female</td>\n",
       "      <td>38.0</td>\n",
       "      <td>1</td>\n",
       "      <td>0</td>\n",
       "      <td>PC 17599</td>\n",
       "      <td>71.2833</td>\n",
       "      <td>...</td>\n",
       "      <td>1</td>\n",
       "      <td>0</td>\n",
       "      <td>0</td>\n",
       "      <td>1</td>\n",
       "      <td>0</td>\n",
       "      <td>0</td>\n",
       "      <td>0</td>\n",
       "      <td>0</td>\n",
       "      <td>0</td>\n",
       "      <td>0</td>\n",
       "    </tr>\n",
       "    <tr>\n",
       "      <th>3</th>\n",
       "      <td>4</td>\n",
       "      <td>1</td>\n",
       "      <td>1</td>\n",
       "      <td>Futrelle, Mrs. Jacques Heath (Lily May Peel)</td>\n",
       "      <td>female</td>\n",
       "      <td>35.0</td>\n",
       "      <td>1</td>\n",
       "      <td>0</td>\n",
       "      <td>113803</td>\n",
       "      <td>53.1000</td>\n",
       "      <td>...</td>\n",
       "      <td>0</td>\n",
       "      <td>1</td>\n",
       "      <td>0</td>\n",
       "      <td>1</td>\n",
       "      <td>0</td>\n",
       "      <td>0</td>\n",
       "      <td>0</td>\n",
       "      <td>0</td>\n",
       "      <td>0</td>\n",
       "      <td>0</td>\n",
       "    </tr>\n",
       "    <tr>\n",
       "      <th>6</th>\n",
       "      <td>7</td>\n",
       "      <td>0</td>\n",
       "      <td>1</td>\n",
       "      <td>McCarthy, Mr. Timothy J</td>\n",
       "      <td>male</td>\n",
       "      <td>54.0</td>\n",
       "      <td>0</td>\n",
       "      <td>0</td>\n",
       "      <td>17463</td>\n",
       "      <td>51.8625</td>\n",
       "      <td>...</td>\n",
       "      <td>0</td>\n",
       "      <td>1</td>\n",
       "      <td>0</td>\n",
       "      <td>0</td>\n",
       "      <td>0</td>\n",
       "      <td>1</td>\n",
       "      <td>0</td>\n",
       "      <td>0</td>\n",
       "      <td>0</td>\n",
       "      <td>0</td>\n",
       "    </tr>\n",
       "    <tr>\n",
       "      <th>10</th>\n",
       "      <td>11</td>\n",
       "      <td>1</td>\n",
       "      <td>3</td>\n",
       "      <td>Sandstrom, Miss. Marguerite Rut</td>\n",
       "      <td>female</td>\n",
       "      <td>4.0</td>\n",
       "      <td>1</td>\n",
       "      <td>1</td>\n",
       "      <td>PP 9549</td>\n",
       "      <td>16.7000</td>\n",
       "      <td>...</td>\n",
       "      <td>0</td>\n",
       "      <td>1</td>\n",
       "      <td>0</td>\n",
       "      <td>0</td>\n",
       "      <td>0</td>\n",
       "      <td>0</td>\n",
       "      <td>0</td>\n",
       "      <td>1</td>\n",
       "      <td>0</td>\n",
       "      <td>0</td>\n",
       "    </tr>\n",
       "    <tr>\n",
       "      <th>11</th>\n",
       "      <td>12</td>\n",
       "      <td>1</td>\n",
       "      <td>1</td>\n",
       "      <td>Bonnell, Miss. Elizabeth</td>\n",
       "      <td>female</td>\n",
       "      <td>58.0</td>\n",
       "      <td>0</td>\n",
       "      <td>0</td>\n",
       "      <td>113783</td>\n",
       "      <td>26.5500</td>\n",
       "      <td>...</td>\n",
       "      <td>0</td>\n",
       "      <td>1</td>\n",
       "      <td>0</td>\n",
       "      <td>1</td>\n",
       "      <td>0</td>\n",
       "      <td>0</td>\n",
       "      <td>0</td>\n",
       "      <td>0</td>\n",
       "      <td>0</td>\n",
       "      <td>0</td>\n",
       "    </tr>\n",
       "  </tbody>\n",
       "</table>\n",
       "<p>5 rows × 27 columns</p>\n",
       "</div>"
      ],
      "text/plain": [
       "    PassengerId  Survived  Pclass  \\\n",
       "1             2         1       1   \n",
       "3             4         1       1   \n",
       "6             7         0       1   \n",
       "10           11         1       3   \n",
       "11           12         1       1   \n",
       "\n",
       "                                                 Name     Sex   Age  SibSp  \\\n",
       "1   Cumings, Mrs. John Bradley (Florence Briggs Th...  female  38.0      1   \n",
       "3        Futrelle, Mrs. Jacques Heath (Lily May Peel)  female  35.0      1   \n",
       "6                             McCarthy, Mr. Timothy J    male  54.0      0   \n",
       "10                    Sandstrom, Miss. Marguerite Rut  female   4.0      1   \n",
       "11                           Bonnell, Miss. Elizabeth  female  58.0      0   \n",
       "\n",
       "    Parch    Ticket     Fare   ...   Embarked_1 Embarked_2 Cabin_0 Cabin_1  \\\n",
       "1       0  PC 17599  71.2833   ...            1          0       0       1   \n",
       "3       0    113803  53.1000   ...            0          1       0       1   \n",
       "6       0     17463  51.8625   ...            0          1       0       0   \n",
       "10      1   PP 9549  16.7000   ...            0          1       0       0   \n",
       "11      0    113783  26.5500   ...            0          1       0       1   \n",
       "\n",
       "   Cabin_2 Cabin_3 Cabin_4 Cabin_5 Cabin_6 Cabin_7  \n",
       "1        0       0       0       0       0       0  \n",
       "3        0       0       0       0       0       0  \n",
       "6        0       1       0       0       0       0  \n",
       "10       0       0       0       1       0       0  \n",
       "11       0       0       0       0       0       0  \n",
       "\n",
       "[5 rows x 27 columns]"
      ]
     },
     "execution_count": 34,
     "metadata": {},
     "output_type": "execute_result"
    }
   ],
   "source": [
    "## Make categorical features for Embarked\n",
    "X_num = train['Embarked_number']\n",
    "nmax = max(X_num)+1\n",
    "\n",
    "for num in range(nmax):\n",
    "    X_cat = np.zeros_like(X_num)\n",
    "    for idx, entry in enumerate(X_num):\n",
    "        if entry == num:\n",
    "            X_cat[idx] = 1\n",
    "    name = 'Embarked_' + str(num)\n",
    "    train[name] = X_cat\n",
    "\n",
    "## Make categorical features for Cabin\n",
    "X_num = train['Cabin_number']\n",
    "nmax = max(X_num)+1\n",
    "\n",
    "for num in range(nmax):\n",
    "    X_cat = np.zeros_like(X_num)\n",
    "    for idx, entry in enumerate(X_num):\n",
    "        if entry == num:\n",
    "            X_cat[idx] = 1\n",
    "    name = 'Cabin_' + str(num)\n",
    "    train[name] = X_cat\n",
    "\n",
    "train.head()"
   ]
  },
  {
   "cell_type": "markdown",
   "metadata": {},
   "source": [
    "### Extract the features we want to use in the model"
   ]
  },
  {
   "cell_type": "markdown",
   "metadata": {},
   "source": [
    "Now we extract all the features we want to use for training and get the train_labels."
   ]
  },
  {
   "cell_type": "code",
   "execution_count": 35,
   "metadata": {
    "collapsed": true
   },
   "outputs": [],
   "source": [
    "## Features are translated to numbers\n",
    "X = train[['Pclass', 'SibSp', 'Parch', 'Embarked_0', 'Embarked_1', 'Embarked_2','Sex_number', 'Age', 'Fare', \n",
    "           'Cabin_0', 'Cabin_1', 'Cabin_2', 'Cabin_3', 'Cabin_4', 'Cabin_5', 'Cabin_6', 'Cabin_7']].values\n",
    "Y = train['Survived'].values        \n",
    "\n",
    "shuffle = np.random.permutation(np.arange(X.shape[0]))\n",
    "X, Y = X[shuffle], Y[shuffle]\n",
    "\n",
    "M = X.shape[0]\n",
    "M_train = int(M*0.8)\n",
    "\n",
    "X_train = X[:M_train, :]\n",
    "X_dev = X[M_train:, :]\n",
    "Y_train = Y[:M_train]\n",
    "Y_dev = Y[M_train:]"
   ]
  },
  {
   "cell_type": "markdown",
   "metadata": {},
   "source": [
    "### Build a decision tree\n",
    "Let's try to build a decision tree model."
   ]
  },
  {
   "cell_type": "code",
   "execution_count": 36,
   "metadata": {
    "collapsed": false
   },
   "outputs": [
    {
     "name": "stdout",
     "output_type": "stream",
     "text": [
      "('Accuracy (a decision tree):', 0.72972972972972971)\n"
     ]
    },
    {
     "data": {
      "text/plain": [
       "True"
      ]
     },
     "execution_count": 36,
     "metadata": {},
     "output_type": "execute_result"
    }
   ],
   "source": [
    "dt = DecisionTreeClassifier(criterion=\"entropy\", max_depth=10)\n",
    "dt.fit(X_train, Y_train)\n",
    "print('Accuracy (a decision tree):', dt.score(X_dev, Y_dev))\n",
    "\n",
    "\n",
    "dot_data = export_graphviz(dt, out_file=None) \n",
    "graph = pydotplus.graph_from_dot_data(dot_data) \n",
    "graph.write_pdf(\"tree.pdf\") "
   ]
  },
  {
   "cell_type": "markdown",
   "metadata": {},
   "source": [
    "## Ensemble methods\n",
    "\n",
    "### Random forest"
   ]
  },
  {
   "cell_type": "code",
   "execution_count": 37,
   "metadata": {
    "collapsed": false
   },
   "outputs": [
    {
     "name": "stdout",
     "output_type": "stream",
     "text": [
      "('Accuracy (a random forest):', 0.70270270270270274)\n",
      "('Accuracy (a random forest):', 0.7567567567567568)\n",
      "('Accuracy (a random forest):', 0.67567567567567566)\n",
      "('Accuracy (a random forest):', 0.7567567567567568)\n",
      "('Accuracy (a random forest):', 0.7567567567567568)\n",
      "('Accuracy (a random forest):', 0.7567567567567568)\n",
      "('Accuracy (a random forest):', 0.7567567567567568)\n",
      "('Accuracy (a random forest):', 0.7567567567567568)\n"
     ]
    },
    {
     "data": {
      "text/plain": [
       "[<matplotlib.lines.Line2D at 0x7ff4a6bafe50>]"
      ]
     },
     "execution_count": 37,
     "metadata": {},
     "output_type": "execute_result"
    }
   ],
   "source": [
    "vec_acc = []\n",
    "for num_est in [5,10,50,100, 500, 800, 1000, 1500]:\n",
    "    rfc = RandomForestClassifier(criterion = \"entropy\", n_estimators=num_est)\n",
    "    rfc.fit(X_train, Y_train)\n",
    "    acc = rfc.score(X_dev, Y_dev)\n",
    "    vec_acc.append(acc)\n",
    "    print('Accuracy (a random forest):', rfc.score(X_dev, Y_dev))\n",
    "plt.plot(vec_acc)"
   ]
  },
  {
   "cell_type": "code",
   "execution_count": 38,
   "metadata": {
    "collapsed": false
   },
   "outputs": [
    {
     "data": {
      "image/png": "[encoded data removed]",
      "text/plain": [
       "<matplotlib.figure.Figure at 0x7ff4a6cb72d0>"
      ]
     },
     "metadata": {},
     "output_type": "display_data"
    }
   ],
   "source": [
    "plt.show()"
   ]
  },
  {
   "cell_type": "markdown",
   "metadata": {},
   "source": [
    "### More ensemble methods"
   ]
  },
  {
   "cell_type": "markdown",
   "metadata": {},
   "source": [
    "Build a K-Nearest-Neighbor model"
   ]
  },
  {
   "cell_type": "code",
   "execution_count": 43,
   "metadata": {
    "collapsed": false
   },
   "outputs": [
    {
     "name": "stdout",
     "output_type": "stream",
     "text": [
      "('Best k is: ', 7, ' with accuracy ', 0.78378378378378377)\n"
     ]
    }
   ],
   "source": [
    "k_vec = [1,2,3,4,5,6,7,8,9,10,11,12,13,14,15,16,17,18,19,20]\n",
    "acc_vec = []\n",
    "for k in k_vec:\n",
    "    knn = KNeighborsClassifier(n_neighbors=k)\n",
    "    knn.fit(X_train, Y_train)\n",
    "    preds = knn.predict(X_dev)\n",
    "    acc = np.mean(preds == Y_dev)\n",
    "    acc_vec.append(acc)\n",
    "    #print('Accuracy for %i is %f' %(k, acc))\n",
    "    \n",
    "best_k = k_vec[np.argmax(acc_vec)]\n",
    "print('Best k is: ', best_k, ' with accuracy ', max(acc_vec))\n",
    "\n",
    "knn = KNeighborsClassifier(n_neighbors=best_k)\n",
    "knn.fit(X_train, Y_train)\n",
    "knn_preds = knn.predict(X_dev)"
   ]
  },
  {
   "cell_type": "markdown",
   "metadata": {},
   "source": [
    "Build a Logistic Regression model with L2-Regularization"
   ]
  },
  {
   "cell_type": "code",
   "execution_count": 44,
   "metadata": {
    "collapsed": false
   },
   "outputs": [
    {
     "name": "stdout",
     "output_type": "stream",
     "text": [
      "('Best c is: ', 0.001, ' with accuracy ', 0.7567567567567568)\n"
     ]
    }
   ],
   "source": [
    "c_vec = [0.0001, 0.001, 0.01, 0.1, 1, 10, 100, 1000, 10000]\n",
    "acc_vec = []\n",
    "for c in c_vec:\n",
    "    lr1 = LogisticRegression(penalty='l1', C=c)\n",
    "    lr1.fit(X_train, Y_train)\n",
    "    preds = lr1.predict(X_dev)\n",
    "    acc = np.mean(preds == Y_dev)\n",
    "    acc_vec.append(acc)\n",
    "    #print('Accuracy for %i is %f' %(c, acc))\n",
    "    \n",
    "best_c = c_vec[np.argmax(acc_vec)]\n",
    "print('Best c is: ', best_c, ' with accuracy ', max(acc_vec))\n",
    "\n",
    "lr1 = LogisticRegression(penalty='l1', C=best_c)\n",
    "lr1.fit(X_train, Y_train)\n",
    "lr1_preds = lr1.predict(X_dev)"
   ]
  },
  {
   "cell_type": "markdown",
   "metadata": {},
   "source": [
    "Build a Decision Tree model "
   ]
  },
  {
   "cell_type": "code",
   "execution_count": 45,
   "metadata": {
    "collapsed": false
   },
   "outputs": [
    {
     "name": "stdout",
     "output_type": "stream",
     "text": [
      "('Best depth is: ', 3, ' with accuracy ', 0.72972972972972971)\n"
     ]
    }
   ],
   "source": [
    "d_vec = [1,3,5,7,9,11,13,15,17,19]\n",
    "acc_vec = []\n",
    "for d in d_vec:\n",
    "    dt = DecisionTreeClassifier(criterion=\"entropy\", max_depth=d)\n",
    "    dt.fit(X_train, Y_train)\n",
    "    preds = dt.predict(X_dev)\n",
    "    acc = np.mean(preds == Y_dev)\n",
    "    acc_vec.append(acc)\n",
    "    #print('Accuracy for %i is %f' %(d, acc))\n",
    "    \n",
    "best_d = d_vec[np.argmax(acc_vec)]\n",
    "print('Best depth is: ', best_d, ' with accuracy ', max(acc_vec))\n",
    "\n",
    "dt = DecisionTreeClassifier(criterion=\"entropy\", max_depth=best_d)\n",
    "dt.fit(X_train, Y_train)\n",
    "dt_preds = lr1.predict(X_dev)"
   ]
  },
  {
   "cell_type": "markdown",
   "metadata": {},
   "source": [
    "We take a vote using all predictions from the models"
   ]
  },
  {
   "cell_type": "code",
   "execution_count": 46,
   "metadata": {
    "collapsed": false
   },
   "outputs": [
    {
     "ename": "NameError",
     "evalue": "name 'lr2_preds' is not defined",
     "output_type": "error",
     "traceback": [
      "\u001b[0;31m---------------------------------------------------------------------------\u001b[0m",
      "\u001b[0;31mNameError\u001b[0m                                 Traceback (most recent call last)",
      "\u001b[0;32m<ipython-input-46-efdacdcd952d>\u001b[0m in \u001b[0;36m<module>\u001b[0;34m()\u001b[0m\n\u001b[1;32m      1\u001b[0m \u001b[0mfinal_preds\u001b[0m \u001b[0;34m=\u001b[0m \u001b[0;34m[\u001b[0m\u001b[0;34m]\u001b[0m\u001b[0;34m\u001b[0m\u001b[0m\n\u001b[0;32m----> 2\u001b[0;31m \u001b[0;32mfor\u001b[0m \u001b[0mk\u001b[0m\u001b[0;34m,\u001b[0m \u001b[0ml2\u001b[0m\u001b[0;34m,\u001b[0m \u001b[0ml1\u001b[0m\u001b[0;34m,\u001b[0m \u001b[0md\u001b[0m \u001b[0;32min\u001b[0m \u001b[0mzip\u001b[0m\u001b[0;34m(\u001b[0m\u001b[0mknn_preds\u001b[0m\u001b[0;34m,\u001b[0m \u001b[0mlr2_preds\u001b[0m\u001b[0;34m,\u001b[0m \u001b[0mlr1_preds\u001b[0m\u001b[0;34m,\u001b[0m \u001b[0mdt_preds\u001b[0m\u001b[0;34m)\u001b[0m\u001b[0;34m:\u001b[0m\u001b[0;34m\u001b[0m\u001b[0m\n\u001b[0m\u001b[1;32m      3\u001b[0m     \u001b[0mfinal_preds\u001b[0m\u001b[0;34m.\u001b[0m\u001b[0mappend\u001b[0m\u001b[0;34m(\u001b[0m\u001b[0mnp\u001b[0m\u001b[0;34m.\u001b[0m\u001b[0mround\u001b[0m\u001b[0;34m(\u001b[0m\u001b[0;34m(\u001b[0m\u001b[0mk\u001b[0m\u001b[0;34m+\u001b[0m\u001b[0ml2\u001b[0m\u001b[0;34m+\u001b[0m\u001b[0ml2\u001b[0m\u001b[0;34m+\u001b[0m\u001b[0md\u001b[0m\u001b[0;34m)\u001b[0m \u001b[0;34m/\u001b[0m \u001b[0;36m4\u001b[0m\u001b[0;34m)\u001b[0m\u001b[0;34m)\u001b[0m\u001b[0;34m\u001b[0m\u001b[0m\n\u001b[1;32m      4\u001b[0m \u001b[0macc\u001b[0m \u001b[0;34m=\u001b[0m \u001b[0mnp\u001b[0m\u001b[0;34m.\u001b[0m\u001b[0mmean\u001b[0m\u001b[0;34m(\u001b[0m\u001b[0mfinal_preds\u001b[0m \u001b[0;34m==\u001b[0m \u001b[0mY_dev\u001b[0m\u001b[0;34m)\u001b[0m\u001b[0;34m\u001b[0m\u001b[0m\n\u001b[1;32m      5\u001b[0m \u001b[0;32mprint\u001b[0m\u001b[0;34m(\u001b[0m\u001b[0;34m'The final accuracy is: '\u001b[0m\u001b[0;34m,\u001b[0m \u001b[0macc\u001b[0m\u001b[0;34m)\u001b[0m\u001b[0;34m\u001b[0m\u001b[0m\n",
      "\u001b[0;31mNameError\u001b[0m: name 'lr2_preds' is not defined"
     ]
    }
   ],
   "source": [
    "final_preds = []\n",
    "for k, l2, l1, d in zip(knn_preds, lr2_preds, lr1_preds, dt_preds):\n",
    "    final_preds.append(np.round((k+l2+l2+d) / 4))\n",
    "acc = np.mean(final_preds == Y_dev)\n",
    "print('The final accuracy is: ', acc)"
   ]
  },
  {
   "cell_type": "markdown",
   "metadata": {},
   "source": [
    "### K-Nearest Nerighbors"
   ]
  },
  {
   "cell_type": "code",
   "execution_count": 47,
   "metadata": {
    "collapsed": true
   },
   "outputs": [],
   "source": [
    "from sklearn import preprocessing\n",
    "from sklearn.neighbors import KNeighborsClassifier\n",
    "from sklearn.datasets import load_iris\n",
    "from matplotlib.colors import ListedColormap"
   ]
  },
  {
   "cell_type": "code",
   "execution_count": 48,
   "metadata": {
    "collapsed": false
   },
   "outputs": [
    {
     "name": "stdout",
     "output_type": "stream",
     "text": [
      "('Iris target names:', array(['setosa', 'versicolor'],\n",
      "      dtype='|S10'))\n",
      "('Iris feature names:', ['sepal length (cm)', 'sepal width (cm)', 'petal length (cm)', 'petal width (cm)'])\n"
     ]
    }
   ],
   "source": [
    "# Load the data, which is included in sklearn.\n",
    "iris = load_iris()\n",
    "target_names = iris.target_names\n",
    "feature_names = iris.feature_names\n",
    "print('Iris target names:', target_names[:2])\n",
    "print('Iris feature names:', feature_names)\n",
    "X, Y = iris.data, iris.target\n",
    "\n",
    "# Shuffle the data, but make sure that the features and accompanying labels stay in sync.\n",
    "np.random.seed(0)\n",
    "shuffle = np.random.permutation(np.arange(X.shape[0]))\n",
    "X, Y = X[shuffle], Y[shuffle]\n",
    "\n",
    "# Split into train and test.\n",
    "X_train, Y_train = X[:50], Y[:50]\n",
    "X_dev, Y_dev = X[50:100], Y[50:100]\n",
    "X_test, Y_test = X[100:], Y[100:]"
   ]
  },
  {
   "cell_type": "markdown",
   "metadata": {},
   "source": [
    "### Apply K-Nearest-Neighbors\n",
    "We apply K-Nearest-Neighbors and use the dev data to find the best value for k."
   ]
  },
  {
   "cell_type": "code",
   "execution_count": 49,
   "metadata": {
    "collapsed": false
   },
   "outputs": [
    {
     "name": "stdout",
     "output_type": "stream",
     "text": [
      "Accuracy for 1 is 0.940000\n",
      "Accuracy for 2 is 0.900000\n",
      "Accuracy for 3 is 0.980000\n",
      "Accuracy for 4 is 0.940000\n",
      "Accuracy for 5 is 0.940000\n",
      "Accuracy for 6 is 0.920000\n",
      "Accuracy for 7 is 0.940000\n",
      "Accuracy for 8 is 0.940000\n",
      "Accuracy for 9 is 0.940000\n",
      "Accuracy for 10 is 0.920000\n"
     ]
    }
   ],
   "source": [
    "k_vec = [1,2,3,4,5,6,7,8,9,10]\n",
    "for k in k_vec:\n",
    "    knn = KNeighborsClassifier(n_neighbors=k)\n",
    "    knn.fit(X_train, Y_train)\n",
    "    preds = knn.predict(X_dev)\n",
    "    acc = np.mean(preds == Y_dev)\n",
    "    print('Accuracy for %i is %f' %(k, acc))"
   ]
  },
  {
   "cell_type": "markdown",
   "metadata": {},
   "source": [
    "We find the best accuracy 0.98 for k=3.\n",
    "\n",
    "We try different metrics. Here is a link to some pre-implemented distance metrics. The default metric is the Euclidean metric.\n",
    "\n",
    "http://scikit-learn.org/stable/modules/generated/sklearn.neighbors.DistanceMetric.html"
   ]
  },
  {
   "cell_type": "code",
   "execution_count": 50,
   "metadata": {
    "collapsed": false
   },
   "outputs": [
    {
     "name": "stdout",
     "output_type": "stream",
     "text": [
      "Accuracy for 1 is 0.940000\n",
      "Accuracy for 2 is 0.900000\n",
      "Accuracy for 3 is 0.980000\n",
      "Accuracy for 4 is 0.940000\n",
      "Accuracy for 5 is 0.940000\n",
      "Accuracy for 6 is 0.920000\n",
      "Accuracy for 7 is 0.960000\n",
      "Accuracy for 8 is 0.940000\n",
      "Accuracy for 9 is 0.940000\n",
      "Accuracy for 10 is 0.920000\n",
      "\n",
      "Best accuracy is 0.980000 with k=3.\n",
      "\n",
      "\n",
      "Accuracy for 1 is 0.920000\n",
      "Accuracy for 2 is 0.900000\n",
      "Accuracy for 3 is 0.960000\n",
      "Accuracy for 4 is 0.940000\n",
      "Accuracy for 5 is 0.960000\n",
      "Accuracy for 6 is 0.940000\n",
      "Accuracy for 7 is 0.960000\n",
      "Accuracy for 8 is 0.940000\n",
      "Accuracy for 9 is 0.960000\n",
      "Accuracy for 10 is 0.940000\n",
      "\n",
      "Best accuracy is 0.960000 with k=3.\n",
      "\n",
      "\n",
      "Accuracy for 1 is 0.960000\n",
      "Accuracy for 2 is 0.940000\n",
      "Accuracy for 3 is 0.980000\n",
      "Accuracy for 4 is 0.900000\n",
      "Accuracy for 5 is 0.900000\n",
      "Accuracy for 6 is 0.900000\n",
      "Accuracy for 7 is 0.900000\n",
      "Accuracy for 8 is 0.900000\n",
      "Accuracy for 9 is 0.920000\n",
      "Accuracy for 10 is 0.920000\n",
      "\n",
      "Best accuracy is 0.980000 with k=3.\n"
     ]
    }
   ],
   "source": [
    "k_vec = [1,2,3,4,5,6,7,8,9,10]\n",
    "acc_vec = []\n",
    "for k in k_vec:\n",
    "    knn = KNeighborsClassifier(n_neighbors=k, metric='minkowski', p=3)\n",
    "    knn.fit(X_train, Y_train)\n",
    "    preds = knn.predict(X_dev)\n",
    "    acc = np.mean(preds == Y_dev)\n",
    "    acc_vec.append(acc)\n",
    "    print('Accuracy for %i is %f' %(k, acc))\n",
    "print('\\nBest accuracy is %f with k=%i.\\n\\n' %(max(acc_vec), np.argmax(acc_vec)+1))\n",
    "    \n",
    "acc_vec = []\n",
    "for k in k_vec:\n",
    "    knn = KNeighborsClassifier(n_neighbors=k, metric='manhattan')\n",
    "    knn.fit(X_train, Y_train)\n",
    "    preds = knn.predict(X_dev)\n",
    "    acc = np.mean(preds == Y_dev)\n",
    "    acc_vec.append(acc)\n",
    "    print('Accuracy for %i is %f' %(k, acc))\n",
    "print('\\nBest accuracy is %f with k=%i.\\n\\n' %(max(acc_vec), np.argmax(acc_vec)+1))\n",
    "    \n",
    "acc_vec = []\n",
    "for k in k_vec:\n",
    "    knn = KNeighborsClassifier(n_neighbors=k, metric='chebyshev')\n",
    "    knn.fit(X_train, Y_train)\n",
    "    preds = knn.predict(X_dev)\n",
    "    acc = np.mean(preds == Y_dev)\n",
    "    acc_vec.append(acc)\n",
    "    print('Accuracy for %i is %f' %(k, acc))\n",
    "print('\\nBest accuracy is %f with k=%i.' %(max(acc_vec), np.argmax(acc_vec)+1))"
   ]
  },
  {
   "cell_type": "markdown",
   "metadata": {},
   "source": [
    "### Check final error on test set \n",
    "\n",
    "We take the best KNN with the default metric and k=3 and calculate the test error."
   ]
  },
  {
   "cell_type": "code",
   "execution_count": 52,
   "metadata": {
    "collapsed": false
   },
   "outputs": [
    {
     "name": "stdout",
     "output_type": "stream",
     "text": [
      "Accuracy for 3 is 0.980000\n"
     ]
    }
   ],
   "source": [
    "nn = KNeighborsClassifier(n_neighbors=3)\n",
    "knn.fit(np.concatenate((X_train, X_dev), axis=0), np.concatenate((Y_train, Y_dev), axis = 0))\n",
    "preds = knn.predict(X_test)\n",
    "acc = np.mean(preds == Y_test)\n",
    "print('Accuracy for %i is %f' %(3, acc))"
   ]
  },
  {
   "cell_type": "markdown",
   "metadata": {},
   "source": [
    "### Plotting the data"
   ]
  },
  {
   "cell_type": "code",
   "execution_count": 53,
   "metadata": {
    "collapsed": false
   },
   "outputs": [
    {
     "data": {
      "image/png": "[encoded data removed]",
      "text/plain": [
       "<matplotlib.figure.Figure at 0x7ff4a62cc050>"
      ]
     },
     "metadata": {},
     "output_type": "display_data"
    }
   ],
   "source": [
    "cm_bright = ListedColormap(['#FF0000', '#0000FF', '#00FF00'])\n",
    "\n",
    "fig = plt.figure(figsize=(17,10))\n",
    "ax1 = fig.add_subplot(2,2,1)\n",
    "ax1.scatter(X_test[:,0], X_test[:,1], c = Y_test, cmap=cm_bright)\n",
    "ax1.set_title(\"X0 vs. X1 with correct labels\")\n",
    "ax1.set_xlabel(feature_names[0])\n",
    "ax1.set_ylabel(feature_names[1])\n",
    "\n",
    "ax2 = fig.add_subplot(2,2,2)\n",
    "ax2.scatter(X_test[:,0], X_test[:,1], c = preds, cmap=cm_bright)\n",
    "ax2.set_title(\"X0 vs. X1 with predicted labels\")\n",
    "ax2.set_xlabel(feature_names[0])\n",
    "ax2.set_ylabel(feature_names[1])\n",
    "\n",
    "ax3 = fig.add_subplot(2,2,3)\n",
    "ax3.scatter(X_test[:,2], X_test[:,3], c = Y_test, cmap=cm_bright)\n",
    "ax3.set_title(\"X3 vs. X4 with correct labels\")\n",
    "ax3.set_xlabel(feature_names[2])\n",
    "ax3.set_ylabel(feature_names[3])\n",
    "\n",
    "ax4 = fig.add_subplot(2,2,4)\n",
    "ax4.scatter(X_test[:,2], X_test[:,3], c = preds, cmap=cm_bright)\n",
    "ax4.set_title(\"X3 vs. X4 with predicted labels\")\n",
    "ax4.set_xlabel(feature_names[2])\n",
    "ax4.set_ylabel(feature_names[3])\n",
    "\n",
    "plt.show()"
   ]
  },
  {
   "cell_type": "code",
   "execution_count": null,
   "metadata": {
    "collapsed": true
   },
   "outputs": [],
   "source": []
  }
 ],
 "metadata": {
  "anaconda-cloud": {},
  "kernelspec": {
   "display_name": "Python [conda root]",
   "language": "python",
   "name": "conda-root-py"
  },
  "language_info": {
   "codemirror_mode": {
    "name": "ipython",
    "version": 2
   },
   "file_extension": ".py",
   "mimetype": "text/x-python",
   "name": "python",
   "nbconvert_exporter": "python",
   "pygments_lexer": "ipython2",
   "version": "2.7.12"
  }
 },
 "nbformat": 4,
 "nbformat_minor": 1
}
